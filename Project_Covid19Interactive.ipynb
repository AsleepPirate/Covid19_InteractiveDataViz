{
 "cells": [
  {
   "cell_type": "code",
   "execution_count": 1,
   "metadata": {},
   "outputs": [],
   "source": [
    "import pandas as pd\n",
    "from plotly import graph_objs as go\n",
    "from ipywidgets import widgets"
   ]
  },
  {
   "cell_type": "code",
   "execution_count": 2,
   "metadata": {},
   "outputs": [],
   "source": [
    "df = pd.read_csv('https://raw.githubusercontent.com/datasets/covid-19/master/data/time-series-19-covid-combined.csv')\n",
    "df=df.drop([\"Lat\",\"Long\",\"Province/State\"],axis=1)"
   ]
  },
  {
   "cell_type": "code",
   "execution_count": 3,
   "metadata": {
    "scrolled": true
   },
   "outputs": [
    {
     "data": {
      "text/html": [
       "<div>\n",
       "<style scoped>\n",
       "    .dataframe tbody tr th:only-of-type {\n",
       "        vertical-align: middle;\n",
       "    }\n",
       "\n",
       "    .dataframe tbody tr th {\n",
       "        vertical-align: top;\n",
       "    }\n",
       "\n",
       "    .dataframe thead th {\n",
       "        text-align: right;\n",
       "    }\n",
       "</style>\n",
       "<table border=\"1\" class=\"dataframe\">\n",
       "  <thead>\n",
       "    <tr style=\"text-align: right;\">\n",
       "      <th></th>\n",
       "      <th>Date</th>\n",
       "      <th>Country/Region</th>\n",
       "      <th>Confirmed</th>\n",
       "      <th>Recovered</th>\n",
       "      <th>Deaths</th>\n",
       "    </tr>\n",
       "  </thead>\n",
       "  <tbody>\n",
       "    <tr>\n",
       "      <th>0</th>\n",
       "      <td>2020-01-22</td>\n",
       "      <td>Afghanistan</td>\n",
       "      <td>0.0</td>\n",
       "      <td>0.0</td>\n",
       "      <td>0.0</td>\n",
       "    </tr>\n",
       "    <tr>\n",
       "      <th>1</th>\n",
       "      <td>2020-01-23</td>\n",
       "      <td>Afghanistan</td>\n",
       "      <td>0.0</td>\n",
       "      <td>0.0</td>\n",
       "      <td>0.0</td>\n",
       "    </tr>\n",
       "    <tr>\n",
       "      <th>2</th>\n",
       "      <td>2020-01-24</td>\n",
       "      <td>Afghanistan</td>\n",
       "      <td>0.0</td>\n",
       "      <td>0.0</td>\n",
       "      <td>0.0</td>\n",
       "    </tr>\n",
       "    <tr>\n",
       "      <th>3</th>\n",
       "      <td>2020-01-25</td>\n",
       "      <td>Afghanistan</td>\n",
       "      <td>0.0</td>\n",
       "      <td>0.0</td>\n",
       "      <td>0.0</td>\n",
       "    </tr>\n",
       "    <tr>\n",
       "      <th>4</th>\n",
       "      <td>2020-01-26</td>\n",
       "      <td>Afghanistan</td>\n",
       "      <td>0.0</td>\n",
       "      <td>0.0</td>\n",
       "      <td>0.0</td>\n",
       "    </tr>\n",
       "  </tbody>\n",
       "</table>\n",
       "</div>"
      ],
      "text/plain": [
       "         Date Country/Region  Confirmed  Recovered  Deaths\n",
       "0  2020-01-22    Afghanistan        0.0        0.0     0.0\n",
       "1  2020-01-23    Afghanistan        0.0        0.0     0.0\n",
       "2  2020-01-24    Afghanistan        0.0        0.0     0.0\n",
       "3  2020-01-25    Afghanistan        0.0        0.0     0.0\n",
       "4  2020-01-26    Afghanistan        0.0        0.0     0.0"
      ]
     },
     "execution_count": 3,
     "metadata": {},
     "output_type": "execute_result"
    }
   ],
   "source": [
    "df.head()"
   ]
  },
  {
   "cell_type": "code",
   "execution_count": 4,
   "metadata": {},
   "outputs": [],
   "source": [
    "def splitByCountry1(df,country):\n",
    "    split=df.loc[df['Country/Region']== country].drop('Country/Region',axis=1)\n",
    "    split.Date=pd.to_datetime(split.Date)\n",
    "    split=split.groupby(split.Date).aggregate(sum)\n",
    "    return split\n",
    "def splitByCountry2(df,country):\n",
    "    split=splitByCountry1(df,country)\n",
    "    L, M, N=[split.Deaths[0]], [split.Confirmed[0]], [split.Recovered[0]]\n",
    "    for i in range(1,len(split)):\n",
    "        L.append(split.Deaths[i]-split.Deaths[i-1])\n",
    "        M.append(split.Confirmed[i]-split.Confirmed[i-1])\n",
    "        N.append(split.Recovered[i]-split.Recovered[i-1])\n",
    "    split[\"New Confirmed\"],split[\"New Recovered\"],split[\"New Deaths\"]=M,N,L\n",
    "    return split.drop([\"Confirmed\",\"Recovered\",\"Deaths\"],axis=1)"
   ]
  },
  {
   "cell_type": "code",
   "execution_count": 5,
   "metadata": {},
   "outputs": [],
   "source": [
    "textbox = widgets.Dropdown(\n",
    "    description='Country:   ',\n",
    "    value='China',\n",
    "    options=df['Country/Region'].unique().tolist()\n",
    ")\n",
    "since = widgets.IntSlider(\n",
    "    value=0.0,\n",
    "    min=0.0,\n",
    "    max=(pd.to_datetime(max(df.Date))-pd.to_datetime(min(df.Date))).days-10,\n",
    "    step=1.0,\n",
    "    description='Since day',\n",
    "    continuous_update=True\n",
    ")\n",
    "keep_C = widgets.Checkbox(\n",
    "    description='Confirmed',\n",
    "    value=True\n",
    ")\n",
    "keep_R = widgets.Checkbox(\n",
    "    description='Recovered',\n",
    "    value=True\n",
    ")\n",
    "keep_D = widgets.Checkbox(\n",
    "    description='Deaths',\n",
    "    value=True\n",
    ")\n",
    "choice=widgets.ToggleButtons(\n",
    "    options=['Total','Daily'],\n",
    "    value='Total',\n",
    "    disabled=False,\n",
    "    tooltips=['New cases per day', 'Total number of cases'],\n",
    ")\n",
    "container1 = widgets.HBox(children=[textbox,since])\n",
    "container2 = widgets.HBox(children=[choice])\n",
    "container3 = widgets.HBox([keep_C,keep_R,keep_D])"
   ]
  },
  {
   "cell_type": "code",
   "execution_count": 7,
   "metadata": {},
   "outputs": [],
   "source": [
    "df2=splitByCountry1(df,\"China\")\n",
    "trace1=go.Scatter(y=df2['Confirmed'],x=df2.index,fill='tozeroy',mode='none',name='Confirmed')\n",
    "trace2=go.Scatter(y=df2['Recovered'],x=df2.index,fill='tozeroy',mode='none',name='Recovered')\n",
    "trace3=go.Scatter(y=df2['Deaths'],x=df2.index,fill='tozeroy',mode='none',name='Deaths')\n",
    "g = go.FigureWidget(data=[trace1,trace2,trace3],layout=go.Layout(title='Covid-19 Statistics - China'))"
   ]
  },
  {
   "cell_type": "code",
   "execution_count": 8,
   "metadata": {},
   "outputs": [],
   "source": [
    "def response(change):\n",
    "    x1,x2,x3=[],[],[]\n",
    "    if (choice.value==\"Total\"):\n",
    "        temp_df=splitByCountry1(df,textbox.value)[since.value:]\n",
    "    else:\n",
    "        temp_df=splitByCountry2(df,textbox.value)[since.value:]\n",
    "    if(keep_C.value): x1 = temp_df.iloc[:,0]\n",
    "    if(keep_R.value): x2 = temp_df.iloc[:,1]\n",
    "    if(keep_D.value): x3 = temp_df.iloc[:,2]\n",
    "    with g.batch_update():\n",
    "        g.data[0].y = x1\n",
    "        g.data[1].y = x2\n",
    "        g.data[2].y = x3\n",
    "        g.layout.title= \"Covid-19 Statistics - \"+textbox.value+\" (Last Update: \"+temp_df.index[-1].strftime(\"%d %B %Y\")+\")\"\n",
    "        g.layout.xaxis.title = 'Date'\n",
    "        g.layout.yaxis.title = 'Number'"
   ]
  },
  {
   "cell_type": "code",
   "execution_count": 9,
   "metadata": {},
   "outputs": [],
   "source": [
    "textbox.observe(response, names=\"value\")\n",
    "since.observe(response, names=\"value\")\n",
    "keep_C.observe(response, names=\"value\")\n",
    "keep_R.observe(response, names=\"value\")\n",
    "keep_D.observe(response, names=\"value\")\n",
    "choice.observe(response, names=\"value\")"
   ]
  },
  {
   "cell_type": "code",
   "execution_count": 10,
   "metadata": {},
   "outputs": [
    {
     "data": {
      "application/vnd.jupyter.widget-view+json": {
       "model_id": "95abebb0a8ec456ea5cddad5f28325f8",
       "version_major": 2,
       "version_minor": 0
      },
      "text/plain": [
       "VBox(children=(HBox(children=(Dropdown(description='Country:   ', index=36, options=('Afghanistan', 'Albania',…"
      ]
     },
     "metadata": {},
     "output_type": "display_data"
    }
   ],
   "source": [
    "widgets.VBox([container1,container2,container3,g])"
   ]
  }
 ],
 "metadata": {
  "kernelspec": {
   "display_name": "Python 3",
   "language": "python",
   "name": "python3"
  },
  "language_info": {
   "codemirror_mode": {
    "name": "ipython",
    "version": 3
   },
   "file_extension": ".py",
   "mimetype": "text/x-python",
   "name": "python",
   "nbconvert_exporter": "python",
   "pygments_lexer": "ipython3",
   "version": "3.7.2"
  }
 },
 "nbformat": 4,
 "nbformat_minor": 2
}
